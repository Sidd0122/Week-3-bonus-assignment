{
 "cells": [
  {
   "cell_type": "markdown",
   "id": "324f16d6",
   "metadata": {},
   "source": [
    "# Bonus Assignment 3: For Loops and Lists\n",
    "\n",
    "- Student Name: Siddhant Oswal\n",
    "- Division: B\n",
    "- Roll Number: 35"
   ]
  },
  {
   "cell_type": "markdown",
   "id": "b07c8a7a",
   "metadata": {},
   "source": [
    "# For Loops"
   ]
  },
  {
   "cell_type": "markdown",
   "id": "fa6ebbf9",
   "metadata": {},
   "source": [
    "# Q1) Create a function called emoji_grader that accepts a list of grades and prints emojis based on the following grading scheme: \n",
    "- 100: 😱😱😱😱😱😱\n",
    "- 90 to 99: 🔥🔥🔥🔥🔥\n",
    "- 70 to 89: 🎉🎉🎉🎉🎉\n",
    "- 60 to 69: 😐😐😐😐😐\n",
    "- 35 to 59: 👀\n",
    "- 1 to 35: 👀👀👀👀👀\n",
    "- 0: 💀💀💀💀💀"
   ]
  },
  {
   "cell_type": "code",
   "execution_count": 1,
   "id": "a7b0caf0",
   "metadata": {},
   "outputs": [],
   "source": [
    "def emoji_grader(grades):\n",
    "    for grade in grades:\n",
    "        if grade == 100:\n",
    "            print(\"😱😱😱😱😱😱\")\n",
    "            \n",
    "        elif grade >= 90 and grade<= 99:\n",
    "            print(\" 🔥🔥🔥🔥🔥\")\n",
    "            \n",
    "        elif grade >= 70 and grade <= 89:\n",
    "            print(\"🎉🎉🎉🎉🎉\")\n",
    "            \n",
    "        elif grade >= 60 and grade <= 69:\n",
    "            print(\"😐😐😐😐😐\")\n",
    "            \n",
    "        elif grade >= 35 and grade <= 59:\n",
    "            print(\"👀\")\n",
    "        \n",
    "        elif grade >= 1 and grade <= 35:\n",
    "            print(\"👀👀👀👀👀\")\n",
    "            \n",
    "        elif grade == 0:\n",
    "            print(\"💀💀💀💀💀\")    "
   ]
  },
  {
   "cell_type": "code",
   "execution_count": 2,
   "id": "313007ee",
   "metadata": {},
   "outputs": [
    {
     "name": "stdout",
     "output_type": "stream",
     "text": [
      "💀💀💀💀💀\n",
      "👀👀👀👀👀\n",
      "👀👀👀👀👀\n",
      "👀👀👀👀👀\n",
      "👀👀👀👀👀\n",
      "🎉🎉🎉🎉🎉\n",
      " 🔥🔥🔥🔥🔥\n"
     ]
    }
   ],
   "source": [
    "grades = [0 , 25 , 22 , 19 , 1, 73 , 99]\n",
    "emoji_grader(grades)"
   ]
  },
  {
   "cell_type": "markdown",
   "id": "bac1f93e",
   "metadata": {},
   "source": [
    "## Q2) Create a function called square_printer that accepts a list of numbers and prints the square of each number in the list. Test your function with two lists. (5 Marks): \n",
    "\n",
    "**Here is an example of what the output would look like for the following list [2,4,5]**\n",
    "\n",
    "Current Number is 2  and the Square is 4\n",
    "\n",
    "Current Number is 4  and the Square is 16\n",
    "\n",
    "Current Number is 5  and the Square is 25"
   ]
  },
  {
   "cell_type": "code",
   "execution_count": 3,
   "id": "21d996c3",
   "metadata": {},
   "outputs": [],
   "source": [
    "def square_printer(numbers):\n",
    "    for number in numbers:\n",
    "        print(\"current number is \"+str(number) + \" and the square is \"+str(number*number))   "
   ]
  },
  {
   "cell_type": "code",
   "execution_count": 4,
   "id": "db25e30a",
   "metadata": {},
   "outputs": [
    {
     "name": "stdout",
     "output_type": "stream",
     "text": [
      "current number is 1 and the square is 1\n",
      "current number is 2 and the square is 4\n",
      "current number is 3 and the square is 9\n",
      "current number is 4 and the square is 16\n",
      "current number is 5 and the square is 25\n"
     ]
    }
   ],
   "source": [
    "numbers = [1,2,3,4,5]\n",
    "square_printer(numbers)"
   ]
  },
  {
   "cell_type": "code",
   "execution_count": 5,
   "id": "984755b4",
   "metadata": {},
   "outputs": [
    {
     "name": "stdout",
     "output_type": "stream",
     "text": [
      "current number is 23 and the square is 529\n",
      "current number is 44 and the square is 1936\n",
      "current number is 556 and the square is 309136\n",
      "current number is 778 and the square is 605284\n"
     ]
    }
   ],
   "source": [
    "numbers = [23,44,556,778]\n",
    "square_printer(numbers)"
   ]
  },
  {
   "cell_type": "markdown",
   "id": "c3fdc03e",
   "metadata": {},
   "source": [
    "# Q3) Create a function called vowel_count_printer that (10 Marks): \n",
    "\n",
    "\n",
    "- Accepts a sentence \n",
    "- Prints the total vowels (\"a\", \"e\", \"i', \"o\", \"u\") for each word in the sentence\n",
    "- Ensure your function is not case sensitve\n",
    "\n",
    "**For example, the sentence \"Hello, I am Zoshua Colah\" should print the following:**\n",
    "\n",
    "Current Word is: Hello and the Total Vowels in the Word are 2\n",
    "\n",
    "Current Word is: I and the Total Vowels in the Word are 1\n",
    "\n",
    "Current Word is: am and the Total Vowels in the Word are 1\n",
    "\n",
    "Current Word is: Zoshua and the Total Vowels in the Word are 3\n",
    "\n",
    "Current Word is: Colah and the Total Vowels in the Word are 2"
   ]
  },
  {
   "cell_type": "code",
   "execution_count": 321,
   "id": "25467530",
   "metadata": {},
   "outputs": [],
   "source": [
    "def vowel_count_printer(sentence):\n",
    "    counter = 0\n",
    "    sentence = sentence.lower()\n",
    "    sentence = sentence.split(\" \")\n",
    "    vowels = [\"a\",\"e\",\"i\",\"o\",\"u\"]\n",
    "    string = \"\"\n",
    "    for words in sentence:\n",
    "        string = \"\"\n",
    "        string = string + words\n",
    "        for word in string:\n",
    "            if word in vowels:\n",
    "                counter = counter + 1   \n",
    "        print(\"Current Word is \"+words+\" and the Total vowels in the Word are \"+str(counter))\n",
    "        del string\n",
    "        counter = 0"
   ]
  },
  {
   "cell_type": "code",
   "execution_count": 322,
   "id": "94ea89a2",
   "metadata": {
    "scrolled": true
   },
   "outputs": [
    {
     "name": "stdout",
     "output_type": "stream",
     "text": [
      "Current Word is hello and the Total vowels in the Word are 2\n",
      "Current Word is my and the Total vowels in the Word are 0\n",
      "Current Word is name and the Total vowels in the Word are 2\n",
      "Current Word is is and the Total vowels in the Word are 1\n",
      "Current Word is siddhant and the Total vowels in the Word are 2\n",
      "Current Word is oswal and the Total vowels in the Word are 2\n"
     ]
    }
   ],
   "source": [
    "sentence = \"Hello my name is siddhant oswal\"\n",
    "vowel_count_printer(sentence)"
   ]
  },
  {
   "cell_type": "code",
   "execution_count": 324,
   "id": "e1a35749",
   "metadata": {},
   "outputs": [
    {
     "name": "stdout",
     "output_type": "stream",
     "text": [
      "Current Word is hello, and the Total vowels in the Word are 2\n",
      "Current Word is i and the Total vowels in the Word are 1\n",
      "Current Word is am and the Total vowels in the Word are 1\n",
      "Current Word is zoshua and the Total vowels in the Word are 3\n",
      "Current Word is colah and the Total vowels in the Word are 2\n"
     ]
    }
   ],
   "source": [
    "sentence = \"Hello, I am Zoshua Colah\"\n",
    "vowel_count_printer(sentence)"
   ]
  }
 ],
 "metadata": {
  "kernelspec": {
   "display_name": "Python 3",
   "language": "python",
   "name": "python3"
  },
  "language_info": {
   "codemirror_mode": {
    "name": "ipython",
    "version": 3
   },
   "file_extension": ".py",
   "mimetype": "text/x-python",
   "name": "python",
   "nbconvert_exporter": "python",
   "pygments_lexer": "ipython3",
   "version": "3.8.8"
  }
 },
 "nbformat": 4,
 "nbformat_minor": 5
}
